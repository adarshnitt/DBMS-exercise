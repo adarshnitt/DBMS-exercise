{
 "cells": [
  {
   "cell_type": "code",
   "execution_count": 1,
   "id": "75768c8c",
   "metadata": {},
   "outputs": [],
   "source": [
    "import psycopg2"
   ]
  },
  {
   "cell_type": "code",
   "execution_count": 11,
   "id": "bfe3a359",
   "metadata": {},
   "outputs": [
    {
     "name": "stdout",
     "output_type": "stream",
     "text": [
      "('G', 'KP')\n",
      "('E', 'Balagurusamy')\n",
      "('E', 'Balagurusamy')\n"
     ]
    }
   ],
   "source": [
    "def connect():\n",
    "    try:\n",
    "        connect=psycopg2.connect(database=\"database 3\",\n",
    "                                 user='postgres',password='1bindki0',host='127.0.0.1',port='5432')\n",
    "        cur=connect.cursor()\n",
    "        data=cur.execute(\"select data.author_fname ,data.author_lname from book_authors as data \")\n",
    "        row=cur.fetchall()\n",
    "        for j in row:\n",
    "            if len(j[0])==1:\n",
    "                print(j)\n",
    "    except:\n",
    "        print(\"Error\")\n",
    "    finally:\n",
    "        cur.close()\n",
    "connect()\n",
    "        "
   ]
  },
  {
   "cell_type": "code",
   "execution_count": null,
   "id": "53aeb0e5",
   "metadata": {},
   "outputs": [],
   "source": []
  },
  {
   "cell_type": "code",
   "execution_count": null,
   "id": "90105f2a",
   "metadata": {},
   "outputs": [],
   "source": []
  },
  {
   "cell_type": "code",
   "execution_count": null,
   "id": "18535a9d",
   "metadata": {},
   "outputs": [],
   "source": []
  },
  {
   "cell_type": "code",
   "execution_count": null,
   "id": "343bdeae",
   "metadata": {},
   "outputs": [],
   "source": []
  },
  {
   "cell_type": "code",
   "execution_count": null,
   "id": "ecbf1078",
   "metadata": {},
   "outputs": [],
   "source": []
  }
 ],
 "metadata": {
  "kernelspec": {
   "display_name": "Python 3",
   "language": "python",
   "name": "python3"
  },
  "language_info": {
   "codemirror_mode": {
    "name": "ipython",
    "version": 3
   },
   "file_extension": ".py",
   "mimetype": "text/x-python",
   "name": "python",
   "nbconvert_exporter": "python",
   "pygments_lexer": "ipython3",
   "version": "3.8.8"
  }
 },
 "nbformat": 4,
 "nbformat_minor": 5
}
